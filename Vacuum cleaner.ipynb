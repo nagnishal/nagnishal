{
 "cells": [
  {
   "cell_type": "code",
   "execution_count": 1,
   "id": "81b9420c-053d-4229-9f12-9b076cc02864",
   "metadata": {},
   "outputs": [
    {
     "name": "stdout",
     "output_type": "stream",
     "text": [
      "Select Vacuum Shape:\n",
      "1. Circle (Best for Fine Dust)\n",
      "2. Square (Best for Large Debris)\n",
      "3. Triangle (Best for Liquid Spills)\n",
      "4. Hexagon (Best for Mixed Cleaning)\n"
     ]
    },
    {
     "name": "stdin",
     "output_type": "stream",
     "text": [
      "Enter your choice:  1\n"
     ]
    },
    {
     "name": "stdout",
     "output_type": "stream",
     "text": [
      "\n",
      "Shape: Circle\n",
      "Best for: Fine Dust\n",
      "shape selected\n",
      "\n",
      "Battery: 100% | Coverage: 1 tiles | Position: (0,0)\n",
      "\n",
      "Commands:\n",
      "1. Clean current tile\n",
      "2. Move Up\n",
      "3. Move Down\n",
      "4. Move Left\n",
      "5. Move Right\n",
      "6. Dock (Recharge)\n",
      "7. Show Room Map\n",
      "8. Auto Clean Mode\n",
      "9. Exit\n"
     ]
    },
    {
     "name": "stdin",
     "output_type": "stream",
     "text": [
      "Enter your command:  2\n"
     ]
    },
    {
     "name": "stdout",
     "output_type": "stream",
     "text": [
      "[WALL] Invalid move or command!\n",
      "\n",
      "Battery: 100% | Coverage: 1 tiles | Position: (0,0)\n",
      "\n",
      "Commands:\n",
      "1. Clean current tile\n",
      "2. Move Up\n",
      "3. Move Down\n",
      "4. Move Left\n",
      "5. Move Right\n",
      "6. Dock (Recharge)\n",
      "7. Show Room Map\n",
      "8. Auto Clean Mode\n",
      "9. Exit\n"
     ]
    },
    {
     "name": "stdin",
     "output_type": "stream",
     "text": [
      "Enter your command:  2\n"
     ]
    },
    {
     "name": "stdout",
     "output_type": "stream",
     "text": [
      "[WALL] Invalid move or command!\n",
      "\n",
      "Battery: 100% | Coverage: 1 tiles | Position: (0,0)\n",
      "\n",
      "Commands:\n",
      "1. Clean current tile\n",
      "2. Move Up\n",
      "3. Move Down\n",
      "4. Move Left\n",
      "5. Move Right\n",
      "6. Dock (Recharge)\n",
      "7. Show Room Map\n",
      "8. Auto Clean Mode\n",
      "9. Exit\n"
     ]
    },
    {
     "name": "stdin",
     "output_type": "stream",
     "text": [
      "Enter your command:  2\n"
     ]
    },
    {
     "name": "stdout",
     "output_type": "stream",
     "text": [
      "[WALL] Invalid move or command!\n",
      "\n",
      "Battery: 100% | Coverage: 1 tiles | Position: (0,0)\n",
      "\n",
      "Commands:\n",
      "1. Clean current tile\n",
      "2. Move Up\n",
      "3. Move Down\n",
      "4. Move Left\n",
      "5. Move Right\n",
      "6. Dock (Recharge)\n",
      "7. Show Room Map\n",
      "8. Auto Clean Mode\n",
      "9. Exit\n"
     ]
    },
    {
     "name": "stdin",
     "output_type": "stream",
     "text": [
      "Enter your command:  3\n"
     ]
    },
    {
     "name": "stdout",
     "output_type": "stream",
     "text": [
      "[MOVE] Moved DOWN to (1,0).\n",
      "\n",
      "Battery: 97% | Coverage: 1 tiles | Position: (1,0)\n",
      "\n",
      "Commands:\n",
      "1. Clean current tile\n",
      "2. Move Up\n",
      "3. Move Down\n",
      "4. Move Left\n",
      "5. Move Right\n",
      "6. Dock (Recharge)\n",
      "7. Show Room Map\n",
      "8. Auto Clean Mode\n",
      "9. Exit\n"
     ]
    },
    {
     "name": "stdin",
     "output_type": "stream",
     "text": [
      "Enter your command:  3\n"
     ]
    },
    {
     "name": "stdout",
     "output_type": "stream",
     "text": [
      "[MOVE] Moved DOWN to (2,0).\n",
      "\n",
      "Battery: 94% | Coverage: 1 tiles | Position: (2,0)\n",
      "\n",
      "Commands:\n",
      "1. Clean current tile\n",
      "2. Move Up\n",
      "3. Move Down\n",
      "4. Move Left\n",
      "5. Move Right\n",
      "6. Dock (Recharge)\n",
      "7. Show Room Map\n",
      "8. Auto Clean Mode\n",
      "9. Exit\n"
     ]
    },
    {
     "name": "stdin",
     "output_type": "stream",
     "text": [
      "Enter your command:  3\n"
     ]
    },
    {
     "name": "stdout",
     "output_type": "stream",
     "text": [
      "[MOVE] Moved DOWN to (3,0).\n",
      "\n",
      "Battery: 91% | Coverage: 1 tiles | Position: (3,0)\n",
      "\n",
      "Commands:\n",
      "1. Clean current tile\n",
      "2. Move Up\n",
      "3. Move Down\n",
      "4. Move Left\n",
      "5. Move Right\n",
      "6. Dock (Recharge)\n",
      "7. Show Room Map\n",
      "8. Auto Clean Mode\n",
      "9. Exit\n"
     ]
    },
    {
     "name": "stdin",
     "output_type": "stream",
     "text": [
      "Enter your command:  4\n"
     ]
    },
    {
     "name": "stdout",
     "output_type": "stream",
     "text": [
      "[WALL] Invalid move or command!\n",
      "\n",
      "Battery: 91% | Coverage: 1 tiles | Position: (3,0)\n",
      "\n",
      "Commands:\n",
      "1. Clean current tile\n",
      "2. Move Up\n",
      "3. Move Down\n",
      "4. Move Left\n",
      "5. Move Right\n",
      "6. Dock (Recharge)\n",
      "7. Show Room Map\n",
      "8. Auto Clean Mode\n",
      "9. Exit\n"
     ]
    },
    {
     "name": "stdin",
     "output_type": "stream",
     "text": [
      "Enter your command:  4\n"
     ]
    },
    {
     "name": "stdout",
     "output_type": "stream",
     "text": [
      "[WALL] Invalid move or command!\n",
      "\n",
      "Battery: 91% | Coverage: 1 tiles | Position: (3,0)\n",
      "\n",
      "Commands:\n",
      "1. Clean current tile\n",
      "2. Move Up\n",
      "3. Move Down\n",
      "4. Move Left\n",
      "5. Move Right\n",
      "6. Dock (Recharge)\n",
      "7. Show Room Map\n",
      "8. Auto Clean Mode\n",
      "9. Exit\n"
     ]
    },
    {
     "name": "stdin",
     "output_type": "stream",
     "text": [
      "Enter your command:  4\n"
     ]
    },
    {
     "name": "stdout",
     "output_type": "stream",
     "text": [
      "[WALL] Invalid move or command!\n",
      "\n",
      "Battery: 91% | Coverage: 1 tiles | Position: (3,0)\n",
      "\n",
      "Commands:\n",
      "1. Clean current tile\n",
      "2. Move Up\n",
      "3. Move Down\n",
      "4. Move Left\n",
      "5. Move Right\n",
      "6. Dock (Recharge)\n",
      "7. Show Room Map\n",
      "8. Auto Clean Mode\n",
      "9. Exit\n"
     ]
    },
    {
     "name": "stdin",
     "output_type": "stream",
     "text": [
      "Enter your command:  5\n"
     ]
    },
    {
     "name": "stdout",
     "output_type": "stream",
     "text": [
      "[MOVE] Moved RIGHT to (3,1).\n",
      "\n",
      "Battery: 88% | Coverage: 1 tiles | Position: (3,1)\n",
      "\n",
      "Commands:\n",
      "1. Clean current tile\n",
      "2. Move Up\n",
      "3. Move Down\n",
      "4. Move Left\n",
      "5. Move Right\n",
      "6. Dock (Recharge)\n",
      "7. Show Room Map\n",
      "8. Auto Clean Mode\n",
      "9. Exit\n"
     ]
    },
    {
     "name": "stdin",
     "output_type": "stream",
     "text": [
      "Enter your command:  5\n"
     ]
    },
    {
     "name": "stdout",
     "output_type": "stream",
     "text": [
      "[MOVE] Moved RIGHT to (3,2).\n",
      "\n",
      "Battery: 85% | Coverage: 1 tiles | Position: (3,2)\n",
      "\n",
      "Commands:\n",
      "1. Clean current tile\n",
      "2. Move Up\n",
      "3. Move Down\n",
      "4. Move Left\n",
      "5. Move Right\n",
      "6. Dock (Recharge)\n",
      "7. Show Room Map\n",
      "8. Auto Clean Mode\n",
      "9. Exit\n"
     ]
    },
    {
     "name": "stdin",
     "output_type": "stream",
     "text": [
      "Enter your command:  5\n"
     ]
    },
    {
     "name": "stdout",
     "output_type": "stream",
     "text": [
      "[MOVE] Moved RIGHT to (3,3).\n",
      "\n",
      "Battery: 82% | Coverage: 1 tiles | Position: (3,3)\n",
      "\n",
      "Commands:\n",
      "1. Clean current tile\n",
      "2. Move Up\n",
      "3. Move Down\n",
      "4. Move Left\n",
      "5. Move Right\n",
      "6. Dock (Recharge)\n",
      "7. Show Room Map\n",
      "8. Auto Clean Mode\n",
      "9. Exit\n"
     ]
    },
    {
     "name": "stdin",
     "output_type": "stream",
     "text": [
      "Enter your command:  5\n"
     ]
    },
    {
     "name": "stdout",
     "output_type": "stream",
     "text": [
      "[MOVE] Moved RIGHT to (3,4).\n",
      "\n",
      "Battery: 79% | Coverage: 1 tiles | Position: (3,4)\n",
      "\n",
      "Commands:\n",
      "1. Clean current tile\n",
      "2. Move Up\n",
      "3. Move Down\n",
      "4. Move Left\n",
      "5. Move Right\n",
      "6. Dock (Recharge)\n",
      "7. Show Room Map\n",
      "8. Auto Clean Mode\n",
      "9. Exit\n"
     ]
    },
    {
     "name": "stdin",
     "output_type": "stream",
     "text": [
      "Enter your command:  6\n"
     ]
    },
    {
     "name": "stdout",
     "output_type": "stream",
     "text": [
      "[DOCK] Docking... Battery recharged to 100%.\n",
      "\n",
      "Battery: 100% | Coverage: 1 tiles | Position: (3,4)\n",
      "\n",
      "Commands:\n",
      "1. Clean current tile\n",
      "2. Move Up\n",
      "3. Move Down\n",
      "4. Move Left\n",
      "5. Move Right\n",
      "6. Dock (Recharge)\n",
      "7. Show Room Map\n",
      "8. Auto Clean Mode\n",
      "9. Exit\n"
     ]
    },
    {
     "name": "stdin",
     "output_type": "stream",
     "text": [
      "Enter your command:  7\n"
     ]
    },
    {
     "name": "stdout",
     "output_type": "stream",
     "text": [
      "\n",
      "Room Status (1 = clean, 2 = dirty, V = vacuum):\n",
      "1 2 2 2 2 2 2 2 2 2 \n",
      "2 2 2 2 2 2 2 2 2 2 \n",
      "2 2 2 2 2 2 2 2 2 2 \n",
      "2 2 2 2 V 2 2 2 2 2 \n",
      "2 2 2 2 2 2 2 2 2 2 \n",
      "2 2 2 2 2 2 2 2 2 2 \n",
      "2 2 2 2 2 2 2 2 2 2 \n",
      "2 2 2 2 2 2 2 2 2 2 \n",
      "2 2 2 2 2 2 2 2 2 2 \n",
      "2 2 2 2 2 2 2 2 2 2 \n",
      "\n",
      "\n",
      "Battery: 100% | Coverage: 1 tiles | Position: (3,4)\n",
      "\n",
      "Commands:\n",
      "1. Clean current tile\n",
      "2. Move Up\n",
      "3. Move Down\n",
      "4. Move Left\n",
      "5. Move Right\n",
      "6. Dock (Recharge)\n",
      "7. Show Room Map\n",
      "8. Auto Clean Mode\n",
      "9. Exit\n"
     ]
    },
    {
     "name": "stdin",
     "output_type": "stream",
     "text": [
      "Enter your command:  8\n"
     ]
    },
    {
     "name": "stdout",
     "output_type": "stream",
     "text": [
      "[AUTO MODE] Starting autonomous cleaning...\n",
      "[AUTO CLEAN] Cleaned tile (3,4). Battery=93%\n",
      "[AUTO MOVE] Moved to (3,5). Battery=90%\n",
      "[AUTO CLEAN] Cleaned tile (3,5). Battery=83%\n",
      "[AUTO MOVE] Moved to (3,4). Battery=80%\n",
      "[AUTO MOVE] Moved to (4,4). Battery=77%\n",
      "[AUTO CLEAN] Cleaned tile (4,4). Battery=70%\n",
      "[AUTO MOVE] Moved to (4,3). Battery=67%\n",
      "[AUTO CLEAN] Cleaned tile (4,3). Battery=60%\n",
      "[AUTO MOVE] Moved to (5,3). Battery=57%\n",
      "[AUTO CLEAN] Cleaned tile (5,3). Battery=50%\n",
      "[AUTO MOVE] Moved to (5,2). Battery=47%\n",
      "[AUTO CLEAN] Cleaned tile (5,2). Battery=40%\n",
      "[AUTO MOVE] Moved to (5,1). Battery=37%\n",
      "[AUTO CLEAN] Cleaned tile (5,1). Battery=30%\n",
      "[AUTO MOVE] Moved to (4,1). Battery=27%\n",
      "[AUTO CLEAN] Cleaned tile (4,1). Battery=20%\n",
      "[AUTO MOVE] Moved to (4,2). Battery=17%\n",
      "[AUTO MODE] Battery low! 'Returning to dock...\n",
      "\n",
      "Battery: 17% | Coverage: 1 tiles | Position: (4,2)\n",
      "\n",
      "Commands:\n",
      "1. Clean current tile\n",
      "2. Move Up\n",
      "3. Move Down\n",
      "4. Move Left\n",
      "5. Move Right\n",
      "6. Dock (Recharge)\n",
      "7. Show Room Map\n",
      "8. Auto Clean Mode\n",
      "9. Exit\n"
     ]
    },
    {
     "name": "stdin",
     "output_type": "stream",
     "text": [
      "Enter your command:  9\n"
     ]
    },
    {
     "name": "stdout",
     "output_type": "stream",
     "text": [
      "[EXIT] Shutting down vacuum program.\n"
     ]
    }
   ],
   "source": [
    "import random\n",
    "\n",
    "SIZE = 10\n",
    "\n",
    "def print_room(room, x, y):\n",
    "    print(\"\\nRoom Status (1 = clean, 2 = dirty, V = vacuum):\")\n",
    "    for i in range(SIZE):\n",
    "        for j in range(SIZE):\n",
    "            if i == x and j == y:\n",
    "                print(\"V\", end=\" \")\n",
    "            else:\n",
    "                print(room[i][j], end=\" \")\n",
    "        print()\n",
    "    print()\n",
    "\n",
    "def generate_dirt(room):\n",
    "    \"\"\"Randomly makes one tile dirty again (to simulate dust).\"\"\"\n",
    "    i, j = random.randint(0, SIZE-1), random.randint(0, SIZE-1)\n",
    "    if room[i][j] == 1:  # only dirty clean tiles\n",
    "        room[i][j] = 2\n",
    "\n",
    "def auto_clean(room, x, y, battery):\n",
    "    \"\"\"Vacuum cleans and moves randomly until low battery.\"\"\"\n",
    "    moves = [(0,1), (0,-1), (1,0), (-1,0)]  # right, left, down, up\n",
    "    print(\"[AUTO MODE] Starting autonomous cleaning...\")\n",
    "    while battery > 20:\n",
    "        # Clean current tile\n",
    "        if room[x][y] == 2:\n",
    "            room[x][y] = 1\n",
    "            battery -= 7\n",
    "            print(f\"[AUTO CLEAN] Cleaned tile ({x},{y}). Battery={battery}%\")\n",
    "\n",
    "        # Move randomly\n",
    "        dx, dy = random.choice(moves)\n",
    "        new_x, new_y = x+dx, y+dy\n",
    "        if 0 <= new_x < SIZE and 0 <= new_y < SIZE:\n",
    "            x, y = new_x, new_y\n",
    "            battery -= 3\n",
    "            print(f\"[AUTO MOVE] Moved to ({x},{y}). Battery={battery}%\")\n",
    "            generate_dirt(room)\n",
    "    print(\"[AUTO MODE] Battery low! 'Returning to dock...\")\n",
    "    return x, y, battery\n",
    "\n",
    "def main():\n",
    "    # Setup\n",
    "    room = [[2 for _ in range(SIZE)] for _ in range(SIZE)]  # start dirty\n",
    "    x, y = 0, 0  # starting position\n",
    "    room[x][y] = 1\n",
    "    coverage = 1\n",
    "    battery = 100\n",
    "\n",
    "    shapes = {\n",
    "        1: (\"Circle\", \"Fine Dust\"),\n",
    "        2: (\"Square\", \"Large Debris\"),\n",
    "        3: (\"Triangle\", \"Liquid Spills\"),\n",
    "        4: (\"Hexagon\", \"Mixed Cleaning\"),\n",
    "    }\n",
    "\n",
    "    print(\"Select Vacuum Shape:\")\n",
    "    for k, v in shapes.items():\n",
    "        print(f\"{k}. {v[0]} (Best for {v[1]})\")\n",
    "    choice = int(input(\"Enter your choice: \"))\n",
    "\n",
    "    if choice not in shapes:\n",
    "        print(\"Invalid choice!\")\n",
    "        return\n",
    "\n",
    "    shape, dustType = shapes[choice]\n",
    "    print(f\"\\nShape: {shape}\\nBest for: {dustType}\")\n",
    "    print(\"shape selected\")\n",
    "\n",
    "    while True:\n",
    "        print(f\"\\nBattery: {battery}% | Coverage: {coverage} tiles | Position: ({x},{y})\")\n",
    "        print(\"\\nCommands:\")\n",
    "        print(\"1. Clean current tile\")\n",
    "        print(\"2. Move Up\")\n",
    "        print(\"3. Move Down\")\n",
    "        print(\"4. Move Left\")\n",
    "        print(\"5. Move Right\")\n",
    "        print(\"6. Dock (Recharge)\")\n",
    "        print(\"7. Show Room Map\")\n",
    "        print(\"8. Auto Clean Mode\")\n",
    "        print(\"9. Exit\")\n",
    "\n",
    "        try:\n",
    "            command = int(input(\"Enter your command: \"))\n",
    "        except ValueError:\n",
    "            print(\"Invalid input!\")\n",
    "            continue\n",
    "\n",
    "        if command == 1:  # Clean\n",
    "            if room[x][y] == 2:\n",
    "                room[x][y] = 1\n",
    "                coverage += 1\n",
    "                battery -= 7\n",
    "                print(f\"[CLEAN] {shape} vacuum cleaned tile ({x},{y}).\")\n",
    "            else:\n",
    "                print(f\"[INFO] Tile ({x},{y}) already clean.\")\n",
    "\n",
    "        elif command == 2 and x > 0:  # Up\n",
    "            x -= 1; battery -= 3; print(f\"[MOVE] Moved UP to ({x},{y}).\"); generate_dirt(room)\n",
    "        elif command == 3 and x < SIZE-1:  # Down\n",
    "            x += 1; battery -= 3; print(f\"[MOVE] Moved DOWN to ({x},{y}).\"); generate_dirt(room)\n",
    "        elif command == 4 and y > 0:  # Left\n",
    "            y -= 1; battery -= 3; print(f\"[MOVE] Moved LEFT to ({x},{y}).\"); generate_dirt(room)\n",
    "        elif command == 5 and y < SIZE-1:  # Right\n",
    "            y += 1; battery -= 3; print(f\"[MOVE] Moved RIGHT to ({x},{y}).\"); generate_dirt(room)\n",
    "        elif command == 6:  # Dock\n",
    "            print(\"[DOCK] Docking... Battery recharged to 100%.\")\n",
    "            battery = 100\n",
    "        elif command == 7:  # Show map\n",
    "            print_room(room, x, y)\n",
    "        elif command == 8:  # Auto Clean\n",
    "            x, y, battery = auto_clean(room, x, y, battery)\n",
    "        elif command == 9:  # Exit\n",
    "            print(\"[EXIT] Shutting down vacuum program.\")\n",
    "            break\n",
    "        else:\n",
    "            print(\"[WALL] Invalid move or command!\")\n",
    "\n",
    "        if battery <= 0:\n",
    "            print(\"[ERROR] Battery empty! Please dock.\")\n",
    "            battery = 0\n",
    "\n",
    "if __name__ == \"__main__\":\n",
    "    main()"
   ]
  },
  {
   "cell_type": "code",
   "execution_count": null,
   "id": "eaf453f8-8e86-431e-8d8b-183c261e4fe1",
   "metadata": {},
   "outputs": [],
   "source": []
  }
 ],
 "metadata": {
  "kernelspec": {
   "display_name": "Python [conda env:base] *",
   "language": "python",
   "name": "conda-base-py"
  },
  "language_info": {
   "codemirror_mode": {
    "name": "ipython",
    "version": 3
   },
   "file_extension": ".py",
   "mimetype": "text/x-python",
   "name": "python",
   "nbconvert_exporter": "python",
   "pygments_lexer": "ipython3",
   "version": "3.12.7"
  }
 },
 "nbformat": 4,
 "nbformat_minor": 5
}
