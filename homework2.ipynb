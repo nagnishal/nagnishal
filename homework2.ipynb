{
 "cells": [
  {
   "cell_type": "code",
   "execution_count": 1,
   "id": "4f00d546-c866-4598-aa47-e453c44356bd",
   "metadata": {},
   "outputs": [
    {
     "name": "stdout",
     "output_type": "stream",
     "text": [
      "Input x: [1. 2. 3. 4.]\n",
      "Predicted y: [3. 5. 7. 9.]\n"
     ]
    }
   ],
   "source": [
    "import tensorflow as tf\n",
    "\n",
    "# Variables for slope (m) and intercept (c)\n",
    "m = tf.Variable(2.0)   # start with m=2\n",
    "c = tf.Variable(1.0)   # start with c=1\n",
    "\n",
    "# Placeholder for input x\n",
    "x = tf.constant([1.0, 2.0, 3.0, 4.0])  # some x values\n",
    "\n",
    "# Linear model: y = mx + c\n",
    "y = m * x + c\n",
    "\n",
    "# Run with TensorFlow\n",
    "print(\"Input x:\", x.numpy())\n",
    "print(\"Predicted y:\", y.numpy())"
   ]
  },
  {
   "cell_type": "code",
   "execution_count": null,
   "id": "f58d21dd-85e8-4f39-8e72-6c76e06b479c",
   "metadata": {},
   "outputs": [],
   "source": []
  }
 ],
 "metadata": {
  "kernelspec": {
   "display_name": "Python [conda env:base] *",
   "language": "python",
   "name": "conda-base-py"
  },
  "language_info": {
   "codemirror_mode": {
    "name": "ipython",
    "version": 3
   },
   "file_extension": ".py",
   "mimetype": "text/x-python",
   "name": "python",
   "nbconvert_exporter": "python",
   "pygments_lexer": "ipython3",
   "version": "3.12.7"
  }
 },
 "nbformat": 4,
 "nbformat_minor": 5
}
